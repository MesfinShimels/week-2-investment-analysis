{
 "cells": [
  {
   "cell_type": "code",
   "execution_count": null,
   "metadata": {},
   "outputs": [],
   "source": [
    "import data_analysis as da\n",
    "\n",
    "# 1. Load user behavior data\n",
    "user_behavior_data = da.get_user_behavior_data()\n",
    "\n",
    "# 2. Handle missing values\n",
    "cleaned_data = da.handle_missing_values(user_behavior_data)\n",
    "\n",
    "# 3. Perform exploratory data analysis\n",
    "da.exploratory_analysis(cleaned_data)\n",
    "\n",
    "# 4. Segment users by deciles\n",
    "decile_summary = da.segment_users_by_decile(cleaned_data)\n",
    "print(decile_summary)\n",
    "\n",
    "# 5. Perform correlation analysis\n",
    "correlation_matrix = da.correlation_analysis(cleaned_data)\n",
    "\n",
    "# 6. Perform PCA for dimensionality reduction\n",
    "pca_results = da.perform_pca(cleaned_data)\n",
    "print(pca_results.head())\n"
   ]
  },
  {
   "cell_type": "code",
   "execution_count": 2,
   "metadata": {},
   "outputs": [],
   "source": [
    "from sqlalchemy import create_engine\n",
    "import pandas as pd\n",
    "\n",
    "# Function to load data using SQLAlchemy\n",
    "def load_data_using_sqlalchemy(query):\n",
    "    \"\"\"\n",
    "    Connects to the PostgreSQL database and loads data based on the provided SQL query using SQLAlchemy.\n",
    "\n",
    "    :param query: SQL query to execute.\n",
    "    :return: DataFrame containing the results of the query.\n",
    "    \"\"\"\n",
    "    try:\n",
    "        # Database credentials\n",
    "        DB_HOST = \"localhost\"\n",
    "        DB_PORT = \"5433\"\n",
    "        DB_NAME = \"telecom_db\"\n",
    "        DB_USER = \"postgres\"\n",
    "        DB_PASSWORD = \"1234\"\n",
    "\n",
    "        # Create a connection string\n",
    "        connection_string = f\"postgresql+psycopg2://{DB_USER}:{DB_PASSWORD}@{DB_HOST}:{DB_PORT}/{DB_NAME}\"\n",
    "\n",
    "        # Create an SQLAlchemy engine\n",
    "        engine = create_engine(connection_string)\n",
    "\n",
    "        # Load data into a pandas DataFrame\n",
    "        df = pd.read_sql_query(query, engine)\n",
    "\n",
    "        return df\n",
    "\n",
    "    except Exception as e:\n",
    "        print(f\"An error occurred: {e}\")\n",
    "        return None\n"
   ]
  },
  {
   "cell_type": "code",
   "execution_count": 3,
   "metadata": {},
   "outputs": [],
   "source": [
    "import sys\n",
    "import pandas as pd\n",
    "import numpy as np\n",
    "import os\n",
    "sys.path.append(os.path.abspath(\"../scripts\"))\n",
    "from load_data import load_data_using_sqlalchemy\n"
   ]
  },
  {
   "cell_type": "code",
   "execution_count": 4,
   "metadata": {},
   "outputs": [
    {
     "name": "stdout",
     "output_type": "stream",
     "text": [
      "An error occurred: DLL load failed while importing _psycopg: The specified module could not be found.\n",
      "Failed to retrieve data.\n"
     ]
    }
   ],
   "source": [
    "query = \"SELECT * FROM xdr_data;\"  # Example query\n",
    "df = load_data_using_sqlalchemy(query)\n",
    "\n",
    "if df is not None:\n",
    "    print(df.head())\n",
    "else:\n",
    "    print(\"Failed to retrieve data.\")\n"
   ]
  }
 ],
 "metadata": {
  "kernelspec": {
   "display_name": "myenv",
   "language": "python",
   "name": "python3"
  },
  "language_info": {
   "codemirror_mode": {
    "name": "ipython",
    "version": 3
   },
   "file_extension": ".py",
   "mimetype": "text/x-python",
   "name": "python",
   "nbconvert_exporter": "python",
   "pygments_lexer": "ipython3",
   "version": "3.13.1"
  }
 },
 "nbformat": 4,
 "nbformat_minor": 2
}
