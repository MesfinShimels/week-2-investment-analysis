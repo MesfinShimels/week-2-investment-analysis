{
 "cells": [
  {
   "cell_type": "code",
   "execution_count": 2,
   "metadata": {},
   "outputs": [
    {
     "ename": "ModuleNotFoundError",
     "evalue": "No module named 'data_analysis'",
     "output_type": "error",
     "traceback": [
      "\u001b[1;31m---------------------------------------------------------------------------\u001b[0m",
      "\u001b[1;31mModuleNotFoundError\u001b[0m                       Traceback (most recent call last)",
      "Cell \u001b[1;32mIn[2], line 1\u001b[0m\n\u001b[1;32m----> 1\u001b[0m \u001b[38;5;28;01mimport\u001b[39;00m \u001b[38;5;21;01mdata_analysis\u001b[39;00m \u001b[38;5;28;01mas\u001b[39;00m \u001b[38;5;21;01mda\u001b[39;00m\n\u001b[0;32m      3\u001b[0m \u001b[38;5;66;03m# 1. Load user behavior data\u001b[39;00m\n\u001b[0;32m      4\u001b[0m user_behavior_data \u001b[38;5;241m=\u001b[39m da\u001b[38;5;241m.\u001b[39mget_user_behavior_data()\n",
      "\u001b[1;31mModuleNotFoundError\u001b[0m: No module named 'data_analysis'"
     ]
    }
   ],
   "source": [
    "import data_analysis as da\n",
    "\n",
    "# 1. Load user behavior data\n",
    "user_behavior_data = da.get_user_behavior_data()\n",
    "\n",
    "# 2. Handle missing values\n",
    "cleaned_data = da.handle_missing_values(user_behavior_data)\n",
    "\n",
    "# 3. Perform exploratory data analysis\n",
    "da.exploratory_analysis(cleaned_data)\n",
    "\n",
    "# 4. Segment users by deciles\n",
    "decile_summary = da.segment_users_by_decile(cleaned_data)\n",
    "print(decile_summary)\n",
    "\n",
    "# 5. Perform correlation analysis\n",
    "correlation_matrix = da.correlation_analysis(cleaned_data)\n",
    "\n",
    "# 6. Perform PCA for dimensionality reduction\n",
    "pca_results = da.perform_pca(cleaned_data)\n",
    "print(pca_results.head())\n"
   ]
  },
  {
   "cell_type": "code",
   "execution_count": null,
   "metadata": {},
   "outputs": [],
   "source": []
  },
  {
   "cell_type": "code",
   "execution_count": 4,
   "metadata": {},
   "outputs": [
    {
     "name": "stdout",
     "output_type": "stream",
     "text": [
      "An error occurred: DLL load failed while importing _psycopg: The specified module could not be found.\n",
      "Failed to retrieve data.\n"
     ]
    }
   ],
   "source": [
    "from sqlalchemy import create_engine\n",
    "import pandas as pd\n",
    "\n",
    "# Function to load data using SQLAlchemy\n",
    "def load_data_using_sqlalchemy(query):\n",
    "    \"\"\"\n",
    "    Connects to the PostgreSQL database and loads data based on the provided SQL query using SQLAlchemy.\n",
    "\n",
    "    :param query: SQL query to execute.\n",
    "    :return: DataFrame containing the results of the query.\n",
    "    \"\"\"\n",
    "    try:\n",
    "        # Database credentials\n",
    "        DB_HOST = \"localhost\"\n",
    "        DB_PORT = \"5433\"\n",
    "        DB_NAME = \"telecom_db\"\n",
    "        DB_USER = \"postgres\"\n",
    "        DB_PASSWORD = \"1234\"\n",
    "\n",
    "        # Create a connection string\n",
    "        connection_string = f\"postgresql+psycopg2://{DB_USER}:{DB_PASSWORD}@{DB_HOST}:{DB_PORT}/{DB_NAME}\"\n",
    "\n",
    "        # Create an SQLAlchemy engine\n",
    "        engine = create_engine(connection_string)\n",
    "\n",
    "        # Load data into a pandas DataFrame\n",
    "        df = pd.read_sql_query(query, engine)\n",
    "\n",
    "        return df\n",
    "\n",
    "    except Exception as e:\n",
    "        print(f\"An error occurred: {e}\")\n",
    "        return None\n",
    "query = \"SELECT * FROM xdr_data;\"  # Example query\n",
    "df = load_data_using_sqlalchemy(query)\n",
    "\n",
    "if df is not None:\n",
    "    print(df.head())\n",
    "else:\n",
    "    print(\"Failed to retrieve data.\")"
   ]
  },
  {
   "cell_type": "code",
   "execution_count": 1,
   "metadata": {},
   "outputs": [
    {
     "ename": "ImportError",
     "evalue": "DLL load failed while importing _psycopg: The specified module could not be found.",
     "output_type": "error",
     "traceback": [
      "\u001b[1;31m---------------------------------------------------------------------------\u001b[0m",
      "\u001b[1;31mImportError\u001b[0m                               Traceback (most recent call last)",
      "Cell \u001b[1;32mIn[1], line 1\u001b[0m\n\u001b[1;32m----> 1\u001b[0m \u001b[38;5;28;01mimport\u001b[39;00m \u001b[38;5;21;01mpsycopg2\u001b[39;00m\n\u001b[0;32m      3\u001b[0m \u001b[38;5;28;01mtry\u001b[39;00m:\n\u001b[0;32m      4\u001b[0m     connection \u001b[38;5;241m=\u001b[39m psycopg2\u001b[38;5;241m.\u001b[39mconnect(\n\u001b[0;32m      5\u001b[0m         dbname\u001b[38;5;241m=\u001b[39m\u001b[38;5;124m\"\u001b[39m\u001b[38;5;124mtelecom_db\u001b[39m\u001b[38;5;124m\"\u001b[39m,\n\u001b[0;32m      6\u001b[0m         user\u001b[38;5;241m=\u001b[39m\u001b[38;5;124m\"\u001b[39m\u001b[38;5;124mpostgres\u001b[39m\u001b[38;5;124m\"\u001b[39m,\n\u001b[1;32m   (...)\u001b[0m\n\u001b[0;32m      9\u001b[0m         port\u001b[38;5;241m=\u001b[39m\u001b[38;5;124m\"\u001b[39m\u001b[38;5;124m5433\u001b[39m\u001b[38;5;124m\"\u001b[39m\n\u001b[0;32m     10\u001b[0m     )\n",
      "File \u001b[1;32mc:\\Users\\User\\Desktop\\week-2-investment-analysis\\myenv\\Lib\\site-packages\\psycopg2\\__init__.py:51\u001b[0m\n\u001b[0;32m      1\u001b[0m \u001b[38;5;124;03m\"\"\"A Python driver for PostgreSQL\u001b[39;00m\n\u001b[0;32m      2\u001b[0m \n\u001b[0;32m      3\u001b[0m \u001b[38;5;124;03mpsycopg is a PostgreSQL_ database adapter for the Python_ programming\u001b[39;00m\n\u001b[1;32m   (...)\u001b[0m\n\u001b[0;32m     17\u001b[0m \u001b[38;5;124;03m    TimeFromTicks, Timestamp, TimestampFromTicks\u001b[39;00m\n\u001b[0;32m     18\u001b[0m \u001b[38;5;124;03m\"\"\"\u001b[39;00m\n\u001b[0;32m     19\u001b[0m \u001b[38;5;66;03m# psycopg/__init__.py - initialization of the psycopg module\u001b[39;00m\n\u001b[0;32m     20\u001b[0m \u001b[38;5;66;03m#\u001b[39;00m\n\u001b[0;32m     21\u001b[0m \u001b[38;5;66;03m# Copyright (C) 2003-2019 Federico Di Gregorio  <fog@debian.org>\u001b[39;00m\n\u001b[1;32m   (...)\u001b[0m\n\u001b[0;32m     48\u001b[0m \n\u001b[0;32m     49\u001b[0m \u001b[38;5;66;03m# Import the DBAPI-2.0 stuff into top-level module.\u001b[39;00m\n\u001b[1;32m---> 51\u001b[0m \u001b[38;5;28;01mfrom\u001b[39;00m \u001b[38;5;21;01mpsycopg2\u001b[39;00m\u001b[38;5;21;01m.\u001b[39;00m\u001b[38;5;21;01m_psycopg\u001b[39;00m \u001b[38;5;28;01mimport\u001b[39;00m (                     \u001b[38;5;66;03m# noqa\u001b[39;00m\n\u001b[0;32m     52\u001b[0m     BINARY, NUMBER, STRING, DATETIME, ROWID,\n\u001b[0;32m     53\u001b[0m \n\u001b[0;32m     54\u001b[0m     Binary, Date, Time, Timestamp,\n\u001b[0;32m     55\u001b[0m     DateFromTicks, TimeFromTicks, TimestampFromTicks,\n\u001b[0;32m     56\u001b[0m \n\u001b[0;32m     57\u001b[0m     Error, \u001b[38;5;167;01mWarning\u001b[39;00m, DataError, DatabaseError, ProgrammingError, IntegrityError,\n\u001b[0;32m     58\u001b[0m     InterfaceError, InternalError, NotSupportedError, OperationalError,\n\u001b[0;32m     59\u001b[0m \n\u001b[0;32m     60\u001b[0m     _connect, apilevel, threadsafety, paramstyle,\n\u001b[0;32m     61\u001b[0m     __version__, __libpq_version__,\n\u001b[0;32m     62\u001b[0m )\n\u001b[0;32m     65\u001b[0m \u001b[38;5;66;03m# Register default adapters.\u001b[39;00m\n\u001b[0;32m     67\u001b[0m \u001b[38;5;28;01mfrom\u001b[39;00m \u001b[38;5;21;01mpsycopg2\u001b[39;00m \u001b[38;5;28;01mimport\u001b[39;00m extensions \u001b[38;5;28;01mas\u001b[39;00m _ext\n",
      "\u001b[1;31mImportError\u001b[0m: DLL load failed while importing _psycopg: The specified module could not be found."
     ]
    }
   ],
   "source": [
    "import psycopg2\n",
    "\n",
    "try:\n",
    "    connection = psycopg2.connect(\n",
    "        dbname=\"telecom_db\",\n",
    "        user=\"postgres\",\n",
    "        password=\"1234\",\n",
    "        host=\"localhost\",\n",
    "        port=\"5433\"\n",
    "    )\n",
    "    print(\"Database connection successful!\")\n",
    "    connection.close()\n",
    "except Exception as e:\n",
    "    print(f\"Database connection failed: {e}\")\n",
    "\n"
   ]
  },
  {
   "cell_type": "code",
   "execution_count": 2,
   "metadata": {},
   "outputs": [],
   "source": [
    "import os\n",
    "import sys\n",
    "\n",
    "\n",
    "# Add the scripts folder to the Python path\n",
    "sys.path.append(os.path.abspath(\"../scripts\"))\n",
    "# Import the function from dataloader.py\n",
    "# from load_data import load_data_using_sqlalchemy\n",
    "\n",
    "# # Sample SQL query to test\n",
    "# query = \"SELECT * FROM some_table LIMIT 10;\"\n",
    "\n",
    "# # Call the function to load data into a DataFrame\n",
    "# df = load_data_using_sqlalchemy(query)\n",
    "\n",
    "# # Display the result\n",
    "# if df is not None:\n",
    "#     print(df)\n"
   ]
  },
  {
   "cell_type": "code",
   "execution_count": 3,
   "metadata": {},
   "outputs": [
    {
     "ename": "ModuleNotFoundError",
     "evalue": "No module named 'load_data'",
     "output_type": "error",
     "traceback": [
      "\u001b[1;31m---------------------------------------------------------------------------\u001b[0m",
      "\u001b[1;31mModuleNotFoundError\u001b[0m                       Traceback (most recent call last)",
      "Cell \u001b[1;32mIn[3], line 1\u001b[0m\n\u001b[1;32m----> 1\u001b[0m \u001b[38;5;28;01mfrom\u001b[39;00m \u001b[38;5;21;01mload_data\u001b[39;00m \u001b[38;5;28;01mimport\u001b[39;00m connect_to_database, fetch_data_from_query, close_database_connection\n\u001b[0;32m      3\u001b[0m \u001b[38;5;66;03m# Query to fetch data\u001b[39;00m\n\u001b[0;32m      4\u001b[0m query \u001b[38;5;241m=\u001b[39m \u001b[38;5;124m\"\u001b[39m\u001b[38;5;124mSELECT * FROM xdr_data;\u001b[39m\u001b[38;5;124m\"\u001b[39m\n",
      "\u001b[1;31mModuleNotFoundError\u001b[0m: No module named 'load_data'"
     ]
    }
   ],
   "source": [
    "from load_data import connect_to_database, fetch_data_from_query, close_database_connection\n",
    "\n",
    "# Query to fetch data\n",
    "query = \"SELECT * FROM xdr_data;\"\n",
    "\n",
    "# Using the module\n",
    "conn = connect_to_database()\n",
    "\n",
    "if conn:\n",
    "    # Debugging connection success\n",
    "    print(\"Connection successful. Proceeding to fetch data...\")\n",
    "\n",
    "    data = fetch_data_from_query(conn, query)\n",
    "\n",
    "    if data is None:\n",
    "        print(\"Fetching data failed. Please check your query or table existence.\")\n",
    "    else:\n",
    "        print(data.head())  # Display the first few rows\n",
    "\n"
   ]
  }
 ],
 "metadata": {
  "kernelspec": {
   "display_name": "myenv",
   "language": "python",
   "name": "python3"
  },
  "language_info": {
   "codemirror_mode": {
    "name": "ipython",
    "version": 3
   },
   "file_extension": ".py",
   "mimetype": "text/x-python",
   "name": "python",
   "nbconvert_exporter": "python",
   "pygments_lexer": "ipython3",
   "version": "3.13.1"
  }
 },
 "nbformat": 4,
 "nbformat_minor": 2
}
